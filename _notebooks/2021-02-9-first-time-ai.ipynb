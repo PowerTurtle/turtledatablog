1.    Name five areas where deep learning is now the best in the world.
Natural Language Processing
Answering questions; speech recognition; summarizing documents; classifying documents; finding names, dates, etc. in documents; searching for articles mentioning a concept
Computer Vision
Satellite and drone imagery interpretation (e.g., for disaster resilience), face recognition, image captioning, reading traffic signs, locating pedestrians and vehicles in autonomous vehicles
Medicine
Finding anomalies in radiology images, including CT, MRI, and X-ray images; counting features in pathology slides; measuring features in ultrasounds; diagnosing diabetic retinopathy
Biology
Folding proteins; classifying proteins; many genomics tasks, such as tumornormal sequencing and classifying clinically actionable genetic mutations; cell classification; analyzing protein/protein interactions
Image generation
Colorizing images, increasing image resolution, removing noise from images, converting images to art in the style of famous artists
Recommendation systems
Robotics
Playing games
2.    Based on the book of the same name, what are the requirements for parallel distributed processing (PDP)?
A Set of processing units
A State of activation
An output function for each unit
A pattern of connectivity among units
A propagation rule for propagating patterns of activities through the network of connectivities
An activation rule for combining the inputs impinging on a unit with the current state of that unit to produce an output for the unit 
A learning rule whereby patterns of connectivity are modified by experience • An environment within which the system must operate
3.    What were the two theoretical misunderstandings that held back the field of neural networks?
Første misforståelse: at fordi et enkelt lag af neuralt netværk devices ikke kunne lære noget så simpelt som XOR, så var neurale netværk en deadend
Anden misforståelse: At netværket blev for langsomt og stort hvis man tilføjer endnu et lag.
4.    What is a GPU?
    Processoren der ligger på grafikkortet
    Graphical Processing unit
5.    Why is it hard to use a traditional computer program to recognize images in a photo?
Med et traditionelt computer program skal du beskrive de skridt, som du gør, for at genkende et billede. Det ved vi ikke præcist selv, derfor kan vi ikke lære computeren det.
6.    What did Samuel mean by "weight assignment"?
Andre værdier, der definerer hvordan programmet vil operere
7.    What term do we normally use in deep learning for what Samuel called "weights"?
Parameters
8.    Draw a picture that summarizes Samuel's view of a machine learning model.

9.    Why is it hard to understand why a deep learning model makes a particular prediction?
Fordi det er en Blackbox.
For at finde ud af det skal der graves for at finde ud af mere.
10.    What is the name of the theorem that shows that a neural network can solve any mathematical problem to any level of accuracy?
Universal Approximation Theorem
11.    What do you need in order to train a model?
Training set
Validation set
Labelled Data?
12.    How could a feedback loop impact the rollout of a predictive policing model?
Grunden til det er fordi der bruges modellen til at predicte crimes, er det der hvor politiet har fokus, derfor er det bare en bekræftelse for modellen at den havde ret. Det næste dataset består så kun af bekræftelser, hvormed modellen bliver ved med og bliver bliver bekræftet. Dermed er den biased og det er en positive feedback loop
13.    Do we always have to use 224×224-pixel images with the cat recognition model?
No. Increase in size means higher memory consumption and longer computation time, but also higher accuracy.
14.    What is the difference between classification and regression?
classification: sæt ind i kasser
regression: Handler om at finde en optimal funktion til at identificere data fra en kontinuerlig virkelig værdi og forudsige ting om den.
15.    What is a validation set? What is a test set? Why do we need them?
Et set for at teste ens model
bruges for at se om modellen har lært mønstre i stedet for training sættet
also known as the development set (which is used only for evaluation
Test set er en isoleret set af data vi fjernede fra starten
For at se om mennesket har overfittet. 
16.    What will fastai do if you don't provide a validation set?
Hvis du ikke gi’r et valideringsset, frasorterer det selv 20% af training dataet.
17.    Can we always use a random sample for a validation set? Why or why not?
Hvis modellen skal forudsige ting ude i fremtiden, er det bedst at frasortere den sidste portion af dataet.
Det er bedst at bruge, hvad man ved om den virkelige data, når man skal frasortere til validation data.
18.    What is overfitting? Provide an example.
Når modellen bliver overtrænet på ens data, så dens algoritme blot afspejler træningsdata i stedet for den ønskede situation.
19.    What is a metric? How does it differ from "loss"?
Metric er hvor god modellen er, præsenteret for mennesker
Loss er hvor god modellen er, valgt til at styre træningen via SGD
20.    How can pretrained models help?
Dermed er der ikke brug for store datasets, da den allerede er trainet. Der bruges fine_tune for at tilpasse det det nye dataset.
Lower training time
Often better result
21.    What is the "head" of a model?
Finetuningen vi laver ud fra vores dataset.
Det er den del af modellen der blev tilføjet ved brug af fine_tune med det nye dataset.
22.    What kinds of features do the early layers of a CNN find? How about the later layers?
Første lag er linier: vertikale, horizontale, diagonale
Næste lag: Simple former og mønstre
Senere lag kan se mere abstrakte former/mønstre
23.    Are image models only useful for photos?
Nej. Alt data der kan præsenteres visuelt, og mennesker kan se forskel på, kan bruges til image models.
24.    What is an "architecture"?
Strukturen af modellen
Definerer den matematiske funktion, som vi forsøger at fitte
25.    What is segmentation?
Pixelbaseret klassifikations problem.
Forsøger at forudsige en label for hvert eneste pixel i et billede.
26.    What is y_range used for? When do we need it?
Bruges til at begrænse de forudsete værdier, når der bliver forudset en numerisk værdi inden for en given rækkevidde.
27.    What are "hyperparameters"?
Parametre der definerer hvordan modellen er trænet. f.eks hvor længe den bli’r trænet
Metadata/metaparametre
28.    What's the best way to avoid failures when using AI in an organization?
Sikre at man har alle tre data set: training, validation og testing set.
Start med en simpel model, gør komplekst senere.
29.    Complete the Jupyter Notebook online appendix. (use the file app_jupyter.ipynb in Gradient or get it from github: https://oreil.ly/9uPZe)
30.    Why is a GPU useful for deep learning? How is a CPU different, and why is it less effective for deep learning?
Mange små kerner
Gode til parallelisere
31.    Try to think of three areas where feedback loops might impact the use of machine learning. See if you can find documented examples of that happening in practice.
Netflix predictions
Amazon predictions





